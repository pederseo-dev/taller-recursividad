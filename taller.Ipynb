{
 "cells": [
  {
   "cell_type": "code",
   "execution_count": null,
   "id": "0f238b61",
   "metadata": {},
   "outputs": [],
   "source": [
    "# despegue con for\n",
    "def cuenta_regresiva_for(n):\n",
    "    for i in range(n, 0, -1):\n",
    "        print(i)\n",
    "    print(\"🚀 Despegue!\")"
   ]
  },
  {
   "cell_type": "code",
   "execution_count": null,
   "id": "779da87a",
   "metadata": {},
   "outputs": [],
   "source": [
    "# despegue on whike\n",
    "def cuenta_regresiva_while(n):\n",
    "    while n > 0:\n",
    "        print(n)\n",
    "        n -= 1\n",
    "    print(\"🚀 Despegue!\")"
   ]
  },
  {
   "cell_type": "code",
   "execution_count": null,
   "id": "cbf473bd",
   "metadata": {},
   "outputs": [],
   "source": [
    "# despegue con recursion\n",
    "def cuenta_regresiva_recursiva(n):\n",
    "    if n == 0:   # Caso base\n",
    "        print(\"🚀 Despegue!\")\n",
    "    else:        # Caso recursivo\n",
    "        print(n)\n",
    "        cuenta_regresiva_recursiva(n-1)"
   ]
  },
  {
   "cell_type": "code",
   "execution_count": null,
   "id": "1b8916d1",
   "metadata": {},
   "outputs": [],
   "source": [
    "def ronda_terere(amigos, agua):\n",
    "    # Caso base: si no queda agua, la ronda termina\n",
    "    if agua == 0:\n",
    "        print(\"Se acabó el agua 💧, Ndeeeee.\")\n",
    "        return\n",
    "    \n",
    "    # El primer amigo toma un sorbo\n",
    "    amigo = amigos[0]\n",
    "    print(f\"{amigo} toma un sorbo. Queda {agua-1} de agua.\")\n",
    "    \n",
    "    # El mate pasa al siguiente (rotamos la lista)\n",
    "    siguiente = amigos[1:] + amigos[:1]\n",
    "    \n",
    "    # Llamada recursiva con menos agua\n",
    "    ronda_terere(siguiente, agua - 1)\n",
    "\n",
    "amigos = [\"Ana\", \"Luis\", \"Sofía\", \"Carlos\"]\n",
    "ronda_terere(amigos, 5)"
   ]
  },
  {
   "cell_type": "code",
   "execution_count": null,
   "id": "0539d10a",
   "metadata": {},
   "outputs": [],
   "source": [
    "invitados = {\n",
    "    \"Ana\": [\"Luis\", \"María\"],\n",
    "    \"Luis\": [\"Pedro\", \"Marta\"],\n",
    "    \"María\": [\"Sofía\"],\n",
    "    \"Pedro\": [\"Carlos\", \"Lucía\"],\n",
    "    \"Marta\": [],\n",
    "    \"Sofía\": [\"Elena\"],\n",
    "    \"Carlos\": [],\n",
    "    \"Lucía\": [],\n",
    "    \"Elena\": []\n",
    "}\n",
    "\n",
    "def repartir_torta_dfs(persona, torta):\n",
    "    if torta == 0:\n",
    "        print(\"❌ Se acabó la torta! Todos se quejan 😡\")\n",
    "        return 0\n",
    "    \n",
    "    print(f\"{persona} recibe un pedazo de torta 🎂 (¡al fin!)\")\n",
    "    torta -= 1\n",
    "    \n",
    "    for invitado in invitados[persona]:\n",
    "        print(f\"➡️ {persona} se olvida de los demás y va directo con {invitado}...\")\n",
    "        torta = repartir_torta_dfs(invitado, torta)\n",
    "        if torta == 0:\n",
    "            break\n",
    "    \n",
    "    return torta\n",
    "\n",
    "print(\"=== MODO DFS: el repartidor se distrae con los colados ===\")\n",
    "repartir_torta_dfs(\"Ana\", 6)\n"
   ]
  },
  {
   "cell_type": "code",
   "execution_count": null,
   "id": "0bdf9aff",
   "metadata": {},
   "outputs": [],
   "source": [
    "def repartir_torta_bfs(persona, torta):\n",
    "    cola = [persona]\n",
    "    \n",
    "    while cola and torta > 0:\n",
    "        actual = cola.pop(0)\n",
    "        print(f\"{actual} recibe un pedazo de torta 🎂 (¡gracias por venir!)\")\n",
    "        torta -= 1\n",
    "        \n",
    "        for invitado in invitados[actual]:\n",
    "            print(f\"👀 {actual} avisa que trajo a {invitado} (otro que quiere torta...)\")\n",
    "            cola.append(invitado)\n",
    "    \n",
    "    if torta == 0:\n",
    "        print(\"❌ Se acabó la torta! Los más lejanos se quedan mirando 😢\")\n",
    "\n",
    "print(\"\\n=== MODO BFS: el repartidor es justo con todos ===\")\n",
    "repartir_torta_bfs(\"Ana\", 6)\n"
   ]
  }
 ],
 "metadata": {
  "kernelspec": {
   "display_name": "Python 3",
   "language": "python",
   "name": "python3"
  },
  "language_info": {
   "name": "python",
   "version": "3.13.5"
  }
 },
 "nbformat": 4,
 "nbformat_minor": 5
}
