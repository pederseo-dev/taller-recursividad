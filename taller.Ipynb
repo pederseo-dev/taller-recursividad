{
 "cells": [
  {
   "cell_type": "code",
   "execution_count": null,
   "id": "0f238b61",
   "metadata": {},
   "outputs": [],
   "source": [
    "# despegue con for\n",
    "def cuenta_regresiva_for(n):\n",
    "    for i in range(n, 0, -1):\n",
    "        print(i)\n",
    "    print(\"🚀 Despegue!\")"
   ]
  },
  {
   "cell_type": "code",
   "execution_count": null,
   "id": "779da87a",
   "metadata": {},
   "outputs": [],
   "source": [
    "# despegue on whike\n",
    "def cuenta_regresiva_while(n):\n",
    "    while n > 0:\n",
    "        print(n)\n",
    "        n -= 1\n",
    "    print(\"🚀 Despegue!\")"
   ]
  },
  {
   "cell_type": "code",
   "execution_count": null,
   "id": "cbf473bd",
   "metadata": {},
   "outputs": [],
   "source": [
    "# despegue con recursion\n",
    "def cuenta_regresiva_recursiva(n):\n",
    "    if n == 0:   # Caso base\n",
    "        print(\"🚀 Despegue!\")\n",
    "    else:        # Caso recursivo\n",
    "        print(n)\n",
    "        cuenta_regresiva_recursiva(n-1)"
   ]
  },
  {
   "cell_type": "code",
   "execution_count": null,
   "id": "1b8916d1",
   "metadata": {},
   "outputs": [],
   "source": [
    "def ronda_terere(amigos, agua):\n",
    "    # Caso base: si no queda agua, la ronda termina\n",
    "    if agua == 0:\n",
    "        print(\"Se acabó el agua 💧, Ndeeeee.\")\n",
    "        return\n",
    "    \n",
    "    # El primer amigo toma un sorbo\n",
    "    amigo = amigos[0]\n",
    "    print(f\"{amigo} toma un sorbo. Queda {agua-1} de agua.\")\n",
    "    \n",
    "    # El mate pasa al siguiente (rotamos la lista)\n",
    "    siguiente = amigos[1:] + amigos[:1]\n",
    "    \n",
    "    # Llamada recursiva con menos agua\n",
    "    ronda_terere(siguiente, agua - 1)\n",
    "\n",
    "amigos = [\"Ana\", \"Luis\", \"Sofía\", \"Carlos\"]\n",
    "ronda_terere(amigos, 5)"
   ]
  },
  {
   "cell_type": "code",
   "execution_count": null,
   "id": "0539d10a",
   "metadata": {},
   "outputs": [],
   "source": [
    "from queue import Queue\n",
    "\n",
    "# Diccionario que representa a los invitados\n",
    "# Cada clave es una persona, y su lista de valores son los invitados que trajo\n",
    "invitados = {\n",
    "    \"Ana\": [\"Luis\", \"María\"],\n",
    "    \"Luis\": [\"Juan\", \"Marta\"],\n",
    "    \"María\": [\"Lurdes\"],\n",
    "    \"Juan\": [],\n",
    "    \"Marta\": [\"jorje\"],\n",
    "    \"Lurdes\": [],\n",
    "    \"jorje\": []\n",
    "}\n",
    "\n",
    "# =========================\n",
    "# DFS (Depth First Search / Búsqueda en profundidad)\n",
    "# Se mete en cada rama hasta el fondo antes de volver\n",
    "def repartir_torta_dfs(persona, torta):\n",
    "    if torta == 0:  # Si se acabó la torta, terminamos\n",
    "        print(\"❌ Se acabó la torta! Todos se quejan 😡\")\n",
    "        return 0\n",
    "    \n",
    "    print(f\"{persona} recibe un pedazo de torta 🎂 (DFS)\")\n",
    "    torta -= 1  # Repartimos un pedazo\n",
    "\n",
    "    # Recorremos todos los invitados que trajo esta persona\n",
    "    for invitado in invitados[persona]:\n",
    "        # Llamada recursiva: DFS baja en profundidad\n",
    "        torta = repartir_torta_dfs(invitado, torta)\n",
    "        if torta == 0:  # Si se acabó la torta en medio de la rama, paramos\n",
    "            break\n",
    "    \n",
    "    return torta\n",
    "\n",
    "\n",
    "# ===========================\n",
    "# Ejecutamos DFS\n",
    "print(\"\\n=== MODO DFS: el repartidor se distrae con los colados ===\")\n",
    "torta_restante = repartir_torta_dfs(\"Ana\", 6)\n",
    "print(f\"🍰 Comieron {6 - torta_restante} invitados en total\\n\")\n"
   ]
  },
  {
   "cell_type": "code",
   "execution_count": null,
   "id": "0bdf9aff",
   "metadata": {},
   "outputs": [],
   "source": [
    "# =========================\n",
    "# BFS (Breadth First Search / Búsqueda en anchura)\n",
    "# Reparte por niveles: primero todos los del mismo nivel, luego los hijos\n",
    "def repartir_torta_bfs(persona, torta):\n",
    "    cola = Queue()  # Creamos la cola (FIFO) para BFS\n",
    "    cola.put(persona)  # Ponemos al primer invitado (Ana) en la cola\n",
    "    \n",
    "    # Mientras haya invitados en la cola y torta disponible\n",
    "    while not cola.empty() and torta > 0:\n",
    "        actual = cola.get()  # Sacamos al primer invitado de la cola\n",
    "        print(f\"{actual} recibe un pedazo de torta 🎂 (BFS)\")\n",
    "        torta -= 1  # Repartimos un pedazo\n",
    "\n",
    "        # Agregamos todos los invitados que trajo esta persona al final de la cola\n",
    "        for invitado in invitados[actual]:\n",
    "            cola.put(invitado)\n",
    "    \n",
    "    if torta == 0:\n",
    "        print(\"❌ Se acabó la torta! Los más lejanos se quedan mirando 😢\")\n",
    "    \n",
    "    return torta\n",
    "\n",
    "# Ejecutamos BFS\n",
    "print(\"=== MODO BFS: el repartidor es justo con todos ===\")\n",
    "torta_restante = repartir_torta_bfs(\"Ana\", 6)\n",
    "print(f\"🍰 Comieron {6 - torta_restante} invitados en total\")"
   ]
  }
 ],
 "metadata": {
  "kernelspec": {
   "display_name": "Python 3",
   "language": "python",
   "name": "python3"
  },
  "language_info": {
   "name": "python",
   "version": "3.13.1"
  }
 },
 "nbformat": 4,
 "nbformat_minor": 5
}
